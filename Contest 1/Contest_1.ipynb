{
  "nbformat": 4,
  "nbformat_minor": 0,
  "metadata": {
    "colab": {
      "provenance": []
    },
    "kernelspec": {
      "name": "python3",
      "display_name": "Python 3"
    },
    "language_info": {
      "name": "python"
    }
  },
  "cells": [
    {
      "cell_type": "markdown",
      "source": [
        "# A. Дележ яблок - 1\n",
        "N школьников делят K яблок поровну, неделяющийся остаток остается в корзинке. Сколько яблок достанется каждому школьнику?"
      ],
      "metadata": {
        "id": "XZp69Stb-_fy"
      }
    },
    {
      "cell_type": "code",
      "source": [
        "n = int(input())\n",
        "k = int(input())\n",
        "print(k // n)\n"
      ],
      "metadata": {
        "colab": {
          "base_uri": "https://localhost:8080/"
        },
        "id": "xfN1ISCG_FTS",
        "outputId": "8cda8caf-8b00-40cc-fcc9-052aa3995668"
      },
      "execution_count": 2,
      "outputs": [
        {
          "output_type": "stream",
          "name": "stdout",
          "text": [
            "3\n",
            "14\n",
            "4\n"
          ]
        }
      ]
    },
    {
      "cell_type": "markdown",
      "source": [
        "# B. Дележ яблок - 2\n",
        "N школьников делят K яблок поровну, неделяющийся остаток остается в корзинке. Сколько яблок останется в корзинке?"
      ],
      "metadata": {
        "id": "vMz5EF2R_T2W"
      }
    },
    {
      "cell_type": "code",
      "source": [
        "n = int(input())\n",
        "k = int(input())\n",
        "res = k - k // n * n\n",
        "print(res)\n"
      ],
      "metadata": {
        "colab": {
          "base_uri": "https://localhost:8080/"
        },
        "id": "I_Ytq515_dhr",
        "outputId": "10b1f1df-8bc1-4dd3-a841-4823f8864d28"
      },
      "execution_count": 4,
      "outputs": [
        {
          "output_type": "stream",
          "name": "stdout",
          "text": [
            "356\n",
            "233\n",
            "233\n"
          ]
        }
      ]
    }
  ]
}